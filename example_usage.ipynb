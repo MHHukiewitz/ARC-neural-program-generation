{
  "cells": [
    {
      "cell_type": "raw",
      "metadata": {
        "vscode": {
          "languageId": "raw"
        }
      },
      "source": [
        "# ARC Dataset Analysis Example\n",
        "\n",
        "This notebook demonstrates how to use the modular ARC dataset classes and analysis functions.\n"
      ]
    },
    {
      "cell_type": "code",
      "execution_count": null,
      "metadata": {},
      "outputs": [],
      "source": [
        "# Import the ARC dataset classes and analysis functions\n",
        "from src import (\n",
        "    ARCDataset,\n",
        "    analyze_grid_sizes,\n",
        "    detailed_grid_size_analysis,\n",
        "    find_tasks_by_color_count,\n",
        "    find_shape_preserving_tasks,\n",
        "    analyze_size_categories,\n",
        "    find_30x30_grids\n",
        ")\n",
        "\n",
        "import matplotlib.pyplot as plt\n",
        "import numpy as np\n"
      ]
    },
    {
      "cell_type": "code",
      "execution_count": null,
      "metadata": {},
      "outputs": [],
      "source": [
        "# Initialize and load the dataset\n",
        "print(\"Loading ARC dataset...\")\n",
        "arc_dataset = ARCDataset()\n",
        "arc_dataset.load_training_data()\n",
        "arc_dataset.load_evaluation_data()\n",
        "\n",
        "# Show basic statistics\n",
        "stats = arc_dataset.get_dataset_stats()\n",
        "print(f\"\\nDataset Statistics:\")\n",
        "print(f\"Training tasks: {stats['training']['num_tasks']}\")\n",
        "print(f\"Evaluation tasks: {stats['evaluation']['num_tasks']}\")\n",
        "print(f\"Total training examples: {stats['training']['total_examples']}\")\n",
        "print(f\"Max grid dimension: {stats['training']['max_grid_size']}\")\n"
      ]
    },
    {
      "cell_type": "code",
      "execution_count": null,
      "metadata": {},
      "outputs": [],
      "source": [
        "# Examine a specific task\n",
        "sample_task_id = list(arc_dataset.training_tasks.keys())[0]\n",
        "sample_task = arc_dataset.get_task(sample_task_id)\n",
        "\n",
        "print(f\"Examining task: {sample_task_id}\")\n",
        "print(\"=\"*50)\n",
        "\n",
        "# Get detailed stats for this task\n",
        "task_stats = sample_task.get_stats()\n",
        "print(f\"Task statistics:\")\n",
        "for key, value in task_stats.items():\n",
        "    print(f\"  {key}: {value}\")\n",
        "\n",
        "# Visualize the first training example\n",
        "if sample_task.train_examples:\n",
        "    first_example = sample_task.train_examples[0]\n",
        "    print(f\"\\nFirst training example:\")\n",
        "    print(f\"  Input shape: {first_example.input_shape}\")\n",
        "    print(f\"  Output shape: {first_example.output_shape}\")\n",
        "    print(f\"  Shape change: {first_example.shape_change}\")\n",
        "    \n",
        "    # Show the grids\n",
        "    first_example.input_grid.visualize(\"Input Grid\")\n",
        "    first_example.output_grid.visualize(\"Output Grid\")\n"
      ]
    },
    {
      "cell_type": "code",
      "execution_count": null,
      "metadata": {},
      "outputs": [],
      "source": [
        "# Analyze grid sizes\n",
        "grid_sizes = analyze_grid_sizes(arc_dataset, \"training\")\n",
        "\n",
        "# Find tasks with specific properties\n",
        "binary_tasks = find_tasks_by_color_count(arc_dataset, 2)\n",
        "shape_preserving = find_shape_preserving_tasks(arc_dataset)\n",
        "\n",
        "print(f\"\\nExample binary task: {binary_tasks[0] if binary_tasks else 'None found'}\")\n",
        "print(f\"Example shape-preserving task: {shape_preserving[0] if shape_preserving else 'None found'}\")\n"
      ]
    },
    {
      "cell_type": "code",
      "execution_count": null,
      "metadata": {},
      "outputs": [],
      "source": [
        "# Detailed grid size analysis\n",
        "grid_data, shape_data = detailed_grid_size_analysis(arc_dataset, \"training\")\n",
        "analyze_size_categories(grid_data)\n"
      ]
    },
    {
      "cell_type": "code",
      "execution_count": null,
      "metadata": {},
      "outputs": [],
      "source": [
        "# Find and analyze 30x30 grids\n",
        "large_grids = find_30x30_grids(arc_dataset)\n",
        "print(f\"Found {len(large_grids)} grids with 30x30 dimensions\")\n",
        "\n",
        "if large_grids:\n",
        "    # Show the first 30x30 grid\n",
        "    example = large_grids[0]\n",
        "    grid = example['grid']\n",
        "    \n",
        "    print(f\"\\nFirst 30x30 grid example:\")\n",
        "    print(f\"- Task ID: {example['task_id']}\")\n",
        "    print(f\"- Type: {example['type']}\")\n",
        "    print(f\"- Colors used: {sorted(grid.unique_colors)}\")\n",
        "    print(f\"- Color counts: {grid.color_counts}\")\n",
        "    \n",
        "    # Visualize (will be large!)\n",
        "    grid.visualize(f\"30x30 Grid - Task {example['task_id']}\", figsize=(12, 12))\n"
      ]
    },
    {
      "cell_type": "raw",
      "metadata": {
        "vscode": {
          "languageId": "raw"
        }
      },
      "source": [
        "## Quick Reference\n",
        "\n",
        "### Basic Usage\n",
        "\n",
        "```python\n",
        "# Load dataset\n",
        "from src import ARCDataset\n",
        "dataset = ARCDataset()\n",
        "dataset.load_training_data()\n",
        "\n",
        "# Get a task\n",
        "task = dataset.get_task('task_id')\n",
        "\n",
        "# Access grid properties\n",
        "height, width = task.test_input.shape\n",
        "total_cells = task.test_input.size\n",
        "colors = task.test_input.unique_colors\n",
        "\n",
        "# Visualize\n",
        "task.test_input.visualize(\"Test Input\")\n",
        "```\n",
        "\n",
        "### Analysis Functions\n",
        "\n",
        "```python\n",
        "from src import (\n",
        "    analyze_grid_sizes,\n",
        "    find_tasks_by_color_count,\n",
        "    find_shape_preserving_tasks,\n",
        "    find_30x30_grids\n",
        ")\n",
        "\n",
        "# Analyze sizes\n",
        "sizes = analyze_grid_sizes(dataset)\n",
        "\n",
        "# Find specific task types\n",
        "binary_tasks = find_tasks_by_color_count(dataset, 2)\n",
        "shape_tasks = find_shape_preserving_tasks(dataset)\n",
        "large_grids = find_30x30_grids(dataset)\n",
        "```\n"
      ]
    }
  ],
  "metadata": {
    "language_info": {
      "name": "python"
    }
  },
  "nbformat": 4,
  "nbformat_minor": 2
}
